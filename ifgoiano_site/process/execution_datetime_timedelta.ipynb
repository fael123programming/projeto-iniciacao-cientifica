{
 "cells": [
  {
   "cell_type": "code",
   "execution_count": 6,
   "id": "237c685c",
   "metadata": {
    "ExecuteTime": {
     "end_time": "2023-02-08T19:08:00.642446Z",
     "start_time": "2023-02-08T19:08:00.288465Z"
    },
    "code_folding": []
   },
   "outputs": [
    {
     "data": {
      "image/png": "[encoded data removed]",
      "text/plain": [
       "<Figure size 640x480 with 1 Axes>"
      ]
     },
     "metadata": {},
     "output_type": "display_data"
    }
   ],
   "source": [
    "import pandas as pd\n",
    "import os\n",
    "from datetime import datetime, timedelta\n",
    "from matplotlib import pyplot, gridspec\n",
    "\n",
    "# Execution time for each dataset.\n",
    "\n",
    "def get_datetime(dataset_name):\n",
    "    split_dataset_name = dataset_name.split('_')\n",
    "    year = int(split_dataset_name[2])\n",
    "    month = int(split_dataset_name[3])\n",
    "    day = int(split_dataset_name[4])\n",
    "    hour = int(split_dataset_name[5])\n",
    "    minute = int(split_dataset_name[6])\n",
    "    sec = int(split_dataset_name[7])\n",
    "    return datetime(year=year, month=month, day=day)\n",
    "    \n",
    "def get_time_spent(dataset_name):\n",
    "    split_dataset_name = dataset_name.split('_')\n",
    "    hours = int(split_dataset_name[8])\n",
    "    minutes = int(split_dataset_name[9])\n",
    "    secs = int(split_dataset_name[10].split('.')[0])\n",
    "    return timedelta(hours=hours, minutes=minutes, seconds=secs)\n",
    "\n",
    "with os.scandir('../datasets/raw/') as dataset_names:\n",
    "    data = dict(date_time=list(), time_spent=list())\n",
    "    for dataset_name in dataset_names:\n",
    "        new_dt = get_datetime(str(dataset_name))\n",
    "        data['date_time'].append(new_dt)\n",
    "        new_time_spent = get_time_spent(str(dataset_name))\n",
    "        data['time_spent'].append(new_time_spent)\n",
    "    data_frame = pd.DataFrame(data)\n",
    "    data_frame['time_spent'] = data_frame['time_spent'] + pd.to_datetime('1970/01/01')\n",
    "    pyplot.xticks(rotation=90)\n",
    "    pyplot.bar(data_frame['date_time'], data_frame['time_spent'])"
   ]
  },
  {
   "cell_type": "code",
   "execution_count": 7,
   "id": "a1d9a91c",
   "metadata": {
    "ExecuteTime": {
     "end_time": "2023-02-08T19:08:01.204433Z",
     "start_time": "2023-02-08T19:08:01.189722Z"
    }
   },
   "outputs": [
    {
     "data": {
      "text/html": [
       "<div>\n",
       "<style scoped>\n",
       "    .dataframe tbody tr th:only-of-type {\n",
       "        vertical-align: middle;\n",
       "    }\n",
       "\n",
       "    .dataframe tbody tr th {\n",
       "        vertical-align: top;\n",
       "    }\n",
       "\n",
       "    .dataframe thead th {\n",
       "        text-align: right;\n",
       "    }\n",
       "</style>\n",
       "<table border=\"1\" class=\"dataframe\">\n",
       "  <thead>\n",
       "    <tr style=\"text-align: right;\">\n",
       "      <th></th>\n",
       "      <th>date_time</th>\n",
       "      <th>time_spent</th>\n",
       "    </tr>\n",
       "  </thead>\n",
       "  <tbody>\n",
       "    <tr>\n",
       "      <th>1</th>\n",
       "      <td>2023-01-26</td>\n",
       "      <td>0 days 04:20:19</td>\n",
       "    </tr>\n",
       "    <tr>\n",
       "      <th>4</th>\n",
       "      <td>2023-01-27</td>\n",
       "      <td>0 days 04:19:46</td>\n",
       "    </tr>\n",
       "    <tr>\n",
       "      <th>9</th>\n",
       "      <td>2023-01-28</td>\n",
       "      <td>0 days 04:16:18</td>\n",
       "    </tr>\n",
       "    <tr>\n",
       "      <th>12</th>\n",
       "      <td>2023-01-29</td>\n",
       "      <td>0 days 04:20:18</td>\n",
       "    </tr>\n",
       "    <tr>\n",
       "      <th>11</th>\n",
       "      <td>2023-01-30</td>\n",
       "      <td>0 days 04:21:04</td>\n",
       "    </tr>\n",
       "    <tr>\n",
       "      <th>2</th>\n",
       "      <td>2023-01-31</td>\n",
       "      <td>0 days 04:19:45</td>\n",
       "    </tr>\n",
       "    <tr>\n",
       "      <th>7</th>\n",
       "      <td>2023-02-01</td>\n",
       "      <td>0 days 04:23:40</td>\n",
       "    </tr>\n",
       "    <tr>\n",
       "      <th>8</th>\n",
       "      <td>2023-02-02</td>\n",
       "      <td>0 days 04:23:26</td>\n",
       "    </tr>\n",
       "    <tr>\n",
       "      <th>0</th>\n",
       "      <td>2023-02-03</td>\n",
       "      <td>0 days 04:20:12</td>\n",
       "    </tr>\n",
       "    <tr>\n",
       "      <th>10</th>\n",
       "      <td>2023-02-04</td>\n",
       "      <td>0 days 04:24:20</td>\n",
       "    </tr>\n",
       "    <tr>\n",
       "      <th>5</th>\n",
       "      <td>2023-02-05</td>\n",
       "      <td>0 days 04:23:18</td>\n",
       "    </tr>\n",
       "    <tr>\n",
       "      <th>6</th>\n",
       "      <td>2023-02-06</td>\n",
       "      <td>0 days 04:22:52</td>\n",
       "    </tr>\n",
       "    <tr>\n",
       "      <th>3</th>\n",
       "      <td>2023-02-07</td>\n",
       "      <td>0 days 04:23:22</td>\n",
       "    </tr>\n",
       "  </tbody>\n",
       "</table>\n",
       "</div>"
      ],
      "text/plain": [
       "    date_time      time_spent\n",
       "1  2023-01-26 0 days 04:20:19\n",
       "4  2023-01-27 0 days 04:19:46\n",
       "9  2023-01-28 0 days 04:16:18\n",
       "12 2023-01-29 0 days 04:20:18\n",
       "11 2023-01-30 0 days 04:21:04\n",
       "2  2023-01-31 0 days 04:19:45\n",
       "7  2023-02-01 0 days 04:23:40\n",
       "8  2023-02-02 0 days 04:23:26\n",
       "0  2023-02-03 0 days 04:20:12\n",
       "10 2023-02-04 0 days 04:24:20\n",
       "5  2023-02-05 0 days 04:23:18\n",
       "6  2023-02-06 0 days 04:22:52\n",
       "3  2023-02-07 0 days 04:23:22"
      ]
     },
     "execution_count": 7,
     "metadata": {},
     "output_type": "execute_result"
    }
   ],
   "source": [
    "# Table of the datetimes and timedeltas of each dataset.\n",
    "\n",
    "data_frame['time_spent'] = data_frame['time_spent'] - pd.to_datetime('1970/01/01')\n",
    "data_frame = data_frame.sort_values('date_time')\n",
    "data_frame"
   ]
  },
  {
   "cell_type": "code",
   "execution_count": 8,
   "id": "d3d0bfab",
   "metadata": {
    "ExecuteTime": {
     "end_time": "2023-02-08T19:08:04.698807Z",
     "start_time": "2023-02-08T19:08:04.691397Z"
    }
   },
   "outputs": [
    {
     "data": {
      "text/plain": [
       "'2 days 08:38:40'"
      ]
     },
     "execution_count": 8,
     "metadata": {},
     "output_type": "execute_result"
    }
   ],
   "source": [
    "# Total execution time.\n",
    "\n",
    "data_frame['time_spent'].sum().__str__()"
   ]
  },
  {
   "cell_type": "code",
   "execution_count": 9,
   "id": "49b46c55",
   "metadata": {
    "ExecuteTime": {
     "end_time": "2023-02-08T19:08:06.689346Z",
     "start_time": "2023-02-08T19:08:06.684251Z"
    }
   },
   "outputs": [
    {
     "data": {
      "text/plain": [
       "'0 days 04:21:26.153846153'"
      ]
     },
     "execution_count": 9,
     "metadata": {},
     "output_type": "execute_result"
    }
   ],
   "source": [
    "# Mean of all execution times.\n",
    "\n",
    "data_frame['time_spent'].mean().__str__()"
   ]
  },
  {
   "cell_type": "code",
   "execution_count": 10,
   "id": "ca2e4002",
   "metadata": {
    "ExecuteTime": {
     "end_time": "2023-02-08T19:08:07.262512Z",
     "start_time": "2023-02-08T19:08:07.248090Z"
    }
   },
   "outputs": [
    {
     "data": {
      "text/plain": [
       "'0 days 00:02:17.284890012'"
      ]
     },
     "execution_count": 10,
     "metadata": {},
     "output_type": "execute_result"
    }
   ],
   "source": [
    "# Standard deviation of all execution times.\n",
    "\n",
    "data_frame['time_spent'].std().__str__()"
   ]
  },
  {
   "cell_type": "code",
   "execution_count": null,
   "id": "c2e115e0",
   "metadata": {},
   "outputs": [],
   "source": []
  }
 ],
 "metadata": {
  "kernelspec": {
   "display_name": "Python 3 (ipykernel)",
   "language": "python",
   "name": "python3"
  },
  "language_info": {
   "codemirror_mode": {
    "name": "ipython",
    "version": 3
   },
   "file_extension": ".py",
   "mimetype": "text/x-python",
   "name": "python",
   "nbconvert_exporter": "python",
   "pygments_lexer": "ipython3",
   "version": "3.10.9"
  }
 },
 "nbformat": 4,
 "nbformat_minor": 5
}
